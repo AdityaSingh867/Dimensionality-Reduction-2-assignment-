{
 "cells": [
  {
   "cell_type": "markdown",
   "id": "0c69755e-e2bd-4b7d-9e36-0f08acdb9de4",
   "metadata": {},
   "source": [
    "Q1. What is a projection and how is it used in PCA?"
   ]
  },
  {
   "cell_type": "markdown",
   "id": "57a040d9-b5b4-4bfb-bef1-16580da26568",
   "metadata": {},
   "source": [
    "it is used for multiply Q tranpose of Q with the original data matrix in order to get the projection matrix. "
   ]
  },
  {
   "cell_type": "markdown",
   "id": "79699921-73e4-47a3-b775-b84eba73e966",
   "metadata": {},
   "source": [
    "Q2. How does the optimization problem in PCA work, and what is it trying to achieve?"
   ]
  },
  {
   "cell_type": "markdown",
   "id": "7f4bea30-a972-4573-959d-c905f259080d",
   "metadata": {},
   "source": [
    "PCA seeks to solve a sequence of optimization problems."
   ]
  },
  {
   "cell_type": "markdown",
   "id": "a6bfe6e6-7ffe-4eed-9aca-f7d5b80b2891",
   "metadata": {},
   "source": [
    "Q3. What is the relationship between covariance matrices and PCA?"
   ]
  },
  {
   "cell_type": "markdown",
   "id": "f82e64ac-2dde-4adf-929d-29d1292061b3",
   "metadata": {},
   "source": [
    "Covariance-based PCA is equivalent to MLPCA whenever the variance-covariance matrix of the measurement errors is assumed diagonal with equal elements on its diagonal."
   ]
  },
  {
   "cell_type": "markdown",
   "id": "90613c6b-fdc8-412f-ba04-bd2a7e6851ec",
   "metadata": {},
   "source": [
    "Q4. How does the choice of number of principal components impact the performance of PCA?"
   ]
  },
  {
   "cell_type": "markdown",
   "id": "dd47c607-518c-4c49-88d2-5c11329307bc",
   "metadata": {},
   "source": [
    "If our sole intention of doing PCA is for data visualization, the best number of components is 2 or 3 , beacuse after pca if we want to visualization of that so , we only did it when features is max 3 or min 1"
   ]
  },
  {
   "cell_type": "markdown",
   "id": "bc0cdbc2-96e0-4cf3-acf6-6d06ae8aa0ca",
   "metadata": {},
   "source": [
    "Q5. How can PCA be used in feature selection, and what are the benefits of using it for this purpose?"
   ]
  },
  {
   "cell_type": "markdown",
   "id": "33e85a19-2c41-4d90-9408-4ff5d6220443",
   "metadata": {},
   "source": [
    " select variables according to the magnitude , It increse the performance and save time ."
   ]
  },
  {
   "cell_type": "markdown",
   "id": "28c46b61-509c-48e8-af78-02a066cd5de7",
   "metadata": {},
   "source": [
    "Q6. What are some common applications of PCA in data science and machine learning?"
   ]
  },
  {
   "cell_type": "markdown",
   "id": "8dc36e71-89fa-476f-b228-edc92ad4447a",
   "metadata": {},
   "source": [
    "- PCA is used to visualize multidimensional data.\n",
    "- It is used to reduce the number of dimensions in healthcare data.\n",
    "- PCA can help resize an image.\n",
    "- It can be used in finance to analyze stock data and forecast returns.\n",
    "- PCA helps to find patterns in the high-dimensional datasets."
   ]
  },
  {
   "cell_type": "markdown",
   "id": "c1484efb-fd88-44a4-850a-62658c3e1623",
   "metadata": {},
   "source": [
    "Q7.What is the relationship between spread and variance in PCA?"
   ]
  },
  {
   "cell_type": "markdown",
   "id": "6005af21-37b5-495f-ad49-43030e582a70",
   "metadata": {},
   "source": [
    "covariance measures the deviation from the mean of two variables with respect to each other."
   ]
  },
  {
   "cell_type": "markdown",
   "id": "eca9e25d-b1b2-4e93-873c-db83cbf67f19",
   "metadata": {},
   "source": [
    "Q8. How does PCA use the spread and variance of the data to identify principal components?"
   ]
  },
  {
   "cell_type": "markdown",
   "id": "c559b6ce-409a-4614-856c-351d966b69a7",
   "metadata": {},
   "source": [
    "finding the directions of maximum variance in the data set and projecting the data onto these directions."
   ]
  },
  {
   "cell_type": "markdown",
   "id": "72b27007-e20f-4919-8693-a79c1004353d",
   "metadata": {},
   "source": [
    "Q9. How does PCA handle data with high variance in some dimensions but low variance in others?"
   ]
  },
  {
   "cell_type": "markdown",
   "id": "322e6934-addd-4aa3-bda2-fbe621bfd476",
   "metadata": {},
   "source": [
    "it is assumed that the information is carried in the variance of the features, that is, the higher the variation in a feature, the more information that feature carries1. PCA gives more weight to variables that have higher variances than variables with low variances, so it is important to normalize the data on the same scale to get a reasonable covariance."
   ]
  }
 ],
 "metadata": {
  "kernelspec": {
   "display_name": "Python 3 (ipykernel)",
   "language": "python",
   "name": "python3"
  },
  "language_info": {
   "codemirror_mode": {
    "name": "ipython",
    "version": 3
   },
   "file_extension": ".py",
   "mimetype": "text/x-python",
   "name": "python",
   "nbconvert_exporter": "python",
   "pygments_lexer": "ipython3",
   "version": "3.10.8"
  }
 },
 "nbformat": 4,
 "nbformat_minor": 5
}
